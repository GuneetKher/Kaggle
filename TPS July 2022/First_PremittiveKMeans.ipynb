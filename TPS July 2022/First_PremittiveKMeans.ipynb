{
 "cells": [
  {
   "cell_type": "code",
   "execution_count": 14,
   "id": "4ab01735-1d68-4afc-b9f4-2541db670d49",
   "metadata": {},
   "outputs": [
    {
     "name": "stderr",
     "output_type": "stream",
     "text": [
      "Matplotlib is building the font cache; this may take a moment.\n"
     ]
    }
   ],
   "source": [
    "import pandas as pd\n",
    "import numpy as np\n",
    "import matplotlib.pyplot as plt"
   ]
  },
  {
   "cell_type": "code",
   "execution_count": 2,
   "id": "304ca08f-4e4e-4f3d-9074-9b39d2618807",
   "metadata": {},
   "outputs": [],
   "source": [
    "df = pd.read_csv(\"data.csv\")"
   ]
  },
  {
   "cell_type": "code",
   "execution_count": 3,
   "id": "c654b3d9-9c06-4385-9757-3dca00dfb279",
   "metadata": {},
   "outputs": [
    {
     "data": {
      "text/html": [
       "<div>\n",
       "<style scoped>\n",
       "    .dataframe tbody tr th:only-of-type {\n",
       "        vertical-align: middle;\n",
       "    }\n",
       "\n",
       "    .dataframe tbody tr th {\n",
       "        vertical-align: top;\n",
       "    }\n",
       "\n",
       "    .dataframe thead th {\n",
       "        text-align: right;\n",
       "    }\n",
       "</style>\n",
       "<table border=\"1\" class=\"dataframe\">\n",
       "  <thead>\n",
       "    <tr style=\"text-align: right;\">\n",
       "      <th></th>\n",
       "      <th>id</th>\n",
       "      <th>f_00</th>\n",
       "      <th>f_01</th>\n",
       "      <th>f_02</th>\n",
       "      <th>f_03</th>\n",
       "      <th>f_04</th>\n",
       "      <th>f_05</th>\n",
       "      <th>f_06</th>\n",
       "      <th>f_07</th>\n",
       "      <th>f_08</th>\n",
       "      <th>...</th>\n",
       "      <th>f_19</th>\n",
       "      <th>f_20</th>\n",
       "      <th>f_21</th>\n",
       "      <th>f_22</th>\n",
       "      <th>f_23</th>\n",
       "      <th>f_24</th>\n",
       "      <th>f_25</th>\n",
       "      <th>f_26</th>\n",
       "      <th>f_27</th>\n",
       "      <th>f_28</th>\n",
       "    </tr>\n",
       "  </thead>\n",
       "  <tbody>\n",
       "    <tr>\n",
       "      <th>0</th>\n",
       "      <td>0</td>\n",
       "      <td>-0.389420</td>\n",
       "      <td>-0.912791</td>\n",
       "      <td>0.648951</td>\n",
       "      <td>0.589045</td>\n",
       "      <td>-0.830817</td>\n",
       "      <td>0.733624</td>\n",
       "      <td>2.258560</td>\n",
       "      <td>2</td>\n",
       "      <td>13</td>\n",
       "      <td>...</td>\n",
       "      <td>-0.478412</td>\n",
       "      <td>-0.757002</td>\n",
       "      <td>-0.763635</td>\n",
       "      <td>-1.090369</td>\n",
       "      <td>1.142641</td>\n",
       "      <td>-0.884274</td>\n",
       "      <td>1.137896</td>\n",
       "      <td>1.309073</td>\n",
       "      <td>1.463002</td>\n",
       "      <td>0.813527</td>\n",
       "    </tr>\n",
       "    <tr>\n",
       "      <th>1</th>\n",
       "      <td>1</td>\n",
       "      <td>-0.689249</td>\n",
       "      <td>-0.453954</td>\n",
       "      <td>0.654175</td>\n",
       "      <td>0.995248</td>\n",
       "      <td>-1.653020</td>\n",
       "      <td>0.863810</td>\n",
       "      <td>-0.090651</td>\n",
       "      <td>2</td>\n",
       "      <td>3</td>\n",
       "      <td>...</td>\n",
       "      <td>-0.428791</td>\n",
       "      <td>-0.089908</td>\n",
       "      <td>-1.784204</td>\n",
       "      <td>-0.839474</td>\n",
       "      <td>0.459685</td>\n",
       "      <td>1.759412</td>\n",
       "      <td>-0.275422</td>\n",
       "      <td>-0.852168</td>\n",
       "      <td>0.562457</td>\n",
       "      <td>-2.680541</td>\n",
       "    </tr>\n",
       "    <tr>\n",
       "      <th>2</th>\n",
       "      <td>2</td>\n",
       "      <td>0.809079</td>\n",
       "      <td>0.324568</td>\n",
       "      <td>-1.170602</td>\n",
       "      <td>-0.624491</td>\n",
       "      <td>0.105448</td>\n",
       "      <td>0.783948</td>\n",
       "      <td>1.988301</td>\n",
       "      <td>5</td>\n",
       "      <td>11</td>\n",
       "      <td>...</td>\n",
       "      <td>-0.413534</td>\n",
       "      <td>-1.602377</td>\n",
       "      <td>1.190984</td>\n",
       "      <td>3.267116</td>\n",
       "      <td>-0.088322</td>\n",
       "      <td>-2.168635</td>\n",
       "      <td>-0.974989</td>\n",
       "      <td>1.335763</td>\n",
       "      <td>-1.110655</td>\n",
       "      <td>-3.630723</td>\n",
       "    </tr>\n",
       "    <tr>\n",
       "      <th>3</th>\n",
       "      <td>3</td>\n",
       "      <td>-0.500923</td>\n",
       "      <td>0.229049</td>\n",
       "      <td>0.264109</td>\n",
       "      <td>0.231520</td>\n",
       "      <td>0.415012</td>\n",
       "      <td>-1.221269</td>\n",
       "      <td>0.138850</td>\n",
       "      <td>6</td>\n",
       "      <td>2</td>\n",
       "      <td>...</td>\n",
       "      <td>0.619283</td>\n",
       "      <td>1.287801</td>\n",
       "      <td>0.532837</td>\n",
       "      <td>1.036631</td>\n",
       "      <td>-2.041828</td>\n",
       "      <td>1.440490</td>\n",
       "      <td>-1.900191</td>\n",
       "      <td>-0.630771</td>\n",
       "      <td>-0.050641</td>\n",
       "      <td>0.238333</td>\n",
       "    </tr>\n",
       "    <tr>\n",
       "      <th>4</th>\n",
       "      <td>4</td>\n",
       "      <td>-0.671268</td>\n",
       "      <td>-1.039533</td>\n",
       "      <td>-0.270155</td>\n",
       "      <td>-1.830264</td>\n",
       "      <td>-0.290108</td>\n",
       "      <td>-1.852809</td>\n",
       "      <td>0.781898</td>\n",
       "      <td>8</td>\n",
       "      <td>7</td>\n",
       "      <td>...</td>\n",
       "      <td>-1.628830</td>\n",
       "      <td>-0.434948</td>\n",
       "      <td>0.322505</td>\n",
       "      <td>0.284326</td>\n",
       "      <td>-2.438365</td>\n",
       "      <td>1.473930</td>\n",
       "      <td>-1.044684</td>\n",
       "      <td>1.602686</td>\n",
       "      <td>-0.405263</td>\n",
       "      <td>-1.987263</td>\n",
       "    </tr>\n",
       "  </tbody>\n",
       "</table>\n",
       "<p>5 rows × 30 columns</p>\n",
       "</div>"
      ],
      "text/plain": [
       "   id      f_00      f_01      f_02      f_03      f_04      f_05      f_06  \\\n",
       "0   0 -0.389420 -0.912791  0.648951  0.589045 -0.830817  0.733624  2.258560   \n",
       "1   1 -0.689249 -0.453954  0.654175  0.995248 -1.653020  0.863810 -0.090651   \n",
       "2   2  0.809079  0.324568 -1.170602 -0.624491  0.105448  0.783948  1.988301   \n",
       "3   3 -0.500923  0.229049  0.264109  0.231520  0.415012 -1.221269  0.138850   \n",
       "4   4 -0.671268 -1.039533 -0.270155 -1.830264 -0.290108 -1.852809  0.781898   \n",
       "\n",
       "   f_07  f_08  ...      f_19      f_20      f_21      f_22      f_23  \\\n",
       "0     2    13  ... -0.478412 -0.757002 -0.763635 -1.090369  1.142641   \n",
       "1     2     3  ... -0.428791 -0.089908 -1.784204 -0.839474  0.459685   \n",
       "2     5    11  ... -0.413534 -1.602377  1.190984  3.267116 -0.088322   \n",
       "3     6     2  ...  0.619283  1.287801  0.532837  1.036631 -2.041828   \n",
       "4     8     7  ... -1.628830 -0.434948  0.322505  0.284326 -2.438365   \n",
       "\n",
       "       f_24      f_25      f_26      f_27      f_28  \n",
       "0 -0.884274  1.137896  1.309073  1.463002  0.813527  \n",
       "1  1.759412 -0.275422 -0.852168  0.562457 -2.680541  \n",
       "2 -2.168635 -0.974989  1.335763 -1.110655 -3.630723  \n",
       "3  1.440490 -1.900191 -0.630771 -0.050641  0.238333  \n",
       "4  1.473930 -1.044684  1.602686 -0.405263 -1.987263  \n",
       "\n",
       "[5 rows x 30 columns]"
      ]
     },
     "execution_count": 3,
     "metadata": {},
     "output_type": "execute_result"
    }
   ],
   "source": [
    "df.head()"
   ]
  },
  {
   "cell_type": "code",
   "execution_count": 7,
   "id": "6f4e7858-433d-422d-a1b5-aff507f0a8a5",
   "metadata": {},
   "outputs": [],
   "source": [
    "from sklearn.cluster import KMeans"
   ]
  },
  {
   "cell_type": "code",
   "execution_count": 13,
   "id": "656e03dd-a781-423f-8a5a-bbdb26af40f0",
   "metadata": {},
   "outputs": [],
   "source": [
    "wcss = []\n",
    "for i in range(1,11):\n",
    "    kmeans = KMeans(n_clusters=i,random_state=0)\n",
    "    kmeans.fit(df)\n",
    "    wcss.append(kmeans.inertia_)"
   ]
  },
  {
   "cell_type": "code",
   "execution_count": 15,
   "id": "2c399fae-a62b-4cdf-a775-387a9a6c6a1a",
   "metadata": {},
   "outputs": [
    {
     "data": {
      "image/png": "[encoded data removed]",
      "text/plain": [
       "<Figure size 432x288 with 1 Axes>"
      ]
     },
     "metadata": {
      "needs_background": "light"
     },
     "output_type": "display_data"
    }
   ],
   "source": [
    "plt.plot(range(1,11),wcss)\n",
    "plt.show()"
   ]
  },
  {
   "cell_type": "code",
   "execution_count": 16,
   "id": "6e0cad8b-c3ba-4921-8222-3ec2da00ac54",
   "metadata": {},
   "outputs": [
    {
     "data": {
      "text/plain": [
       "[78432683560189.45,\n",
       " 19608201249099.707,\n",
       " 8714871711231.529,\n",
       " 4902306668813.941,\n",
       " 3137328782704.019,\n",
       " 2179195755904.996,\n",
       " 1600853198163.0178,\n",
       " 1225672786469.3198,\n",
       " 968407918547.2576,\n",
       " 784554414430.0]"
      ]
     },
     "execution_count": 16,
     "metadata": {},
     "output_type": "execute_result"
    }
   ],
   "source": [
    "wcss"
   ]
  },
  {
   "cell_type": "code",
   "execution_count": null,
   "id": "60a554aa-0c80-46d3-be66-97b735035830",
   "metadata": {},
   "outputs": [],
   "source": []
  },
  {
   "cell_type": "code",
   "execution_count": 18,
   "id": "d268883b-919e-46ca-89e5-843eac57b1d7",
   "metadata": {},
   "outputs": [
    {
     "data": {
      "text/html": [
       "<style>#sk-container-id-2 {color: black;background-color: white;}#sk-container-id-2 pre{padding: 0;}#sk-container-id-2 div.sk-toggleable {background-color: white;}#sk-container-id-2 label.sk-toggleable__label {cursor: pointer;display: block;width: 100%;margin-bottom: 0;padding: 0.3em;box-sizing: border-box;text-align: center;}#sk-container-id-2 label.sk-toggleable__label-arrow:before {content: \"▸\";float: left;margin-right: 0.25em;color: #696969;}#sk-container-id-2 label.sk-toggleable__label-arrow:hover:before {color: black;}#sk-container-id-2 div.sk-estimator:hover label.sk-toggleable__label-arrow:before {color: black;}#sk-container-id-2 div.sk-toggleable__content {max-height: 0;max-width: 0;overflow: hidden;text-align: left;background-color: #f0f8ff;}#sk-container-id-2 div.sk-toggleable__content pre {margin: 0.2em;color: black;border-radius: 0.25em;background-color: #f0f8ff;}#sk-container-id-2 input.sk-toggleable__control:checked~div.sk-toggleable__content {max-height: 200px;max-width: 100%;overflow: auto;}#sk-container-id-2 input.sk-toggleable__control:checked~label.sk-toggleable__label-arrow:before {content: \"▾\";}#sk-container-id-2 div.sk-estimator input.sk-toggleable__control:checked~label.sk-toggleable__label {background-color: #d4ebff;}#sk-container-id-2 div.sk-label input.sk-toggleable__control:checked~label.sk-toggleable__label {background-color: #d4ebff;}#sk-container-id-2 input.sk-hidden--visually {border: 0;clip: rect(1px 1px 1px 1px);clip: rect(1px, 1px, 1px, 1px);height: 1px;margin: -1px;overflow: hidden;padding: 0;position: absolute;width: 1px;}#sk-container-id-2 div.sk-estimator {font-family: monospace;background-color: #f0f8ff;border: 1px dotted black;border-radius: 0.25em;box-sizing: border-box;margin-bottom: 0.5em;}#sk-container-id-2 div.sk-estimator:hover {background-color: #d4ebff;}#sk-container-id-2 div.sk-parallel-item::after {content: \"\";width: 100%;border-bottom: 1px solid gray;flex-grow: 1;}#sk-container-id-2 div.sk-label:hover label.sk-toggleable__label {background-color: #d4ebff;}#sk-container-id-2 div.sk-serial::before {content: \"\";position: absolute;border-left: 1px solid gray;box-sizing: border-box;top: 0;bottom: 0;left: 50%;z-index: 0;}#sk-container-id-2 div.sk-serial {display: flex;flex-direction: column;align-items: center;background-color: white;padding-right: 0.2em;padding-left: 0.2em;position: relative;}#sk-container-id-2 div.sk-item {position: relative;z-index: 1;}#sk-container-id-2 div.sk-parallel {display: flex;align-items: stretch;justify-content: center;background-color: white;position: relative;}#sk-container-id-2 div.sk-item::before, #sk-container-id-2 div.sk-parallel-item::before {content: \"\";position: absolute;border-left: 1px solid gray;box-sizing: border-box;top: 0;bottom: 0;left: 50%;z-index: -1;}#sk-container-id-2 div.sk-parallel-item {display: flex;flex-direction: column;z-index: 1;position: relative;background-color: white;}#sk-container-id-2 div.sk-parallel-item:first-child::after {align-self: flex-end;width: 50%;}#sk-container-id-2 div.sk-parallel-item:last-child::after {align-self: flex-start;width: 50%;}#sk-container-id-2 div.sk-parallel-item:only-child::after {width: 0;}#sk-container-id-2 div.sk-dashed-wrapped {border: 1px dashed gray;margin: 0 0.4em 0.5em 0.4em;box-sizing: border-box;padding-bottom: 0.4em;background-color: white;}#sk-container-id-2 div.sk-label label {font-family: monospace;font-weight: bold;display: inline-block;line-height: 1.2em;}#sk-container-id-2 div.sk-label-container {text-align: center;}#sk-container-id-2 div.sk-container {/* jupyter's `normalize.less` sets `[hidden] { display: none; }` but bootstrap.min.css set `[hidden] { display: none !important; }` so we also need the `!important` here to be able to override the default hidden behavior on the sphinx rendered scikit-learn.org. See: https://github.com/scikit-learn/scikit-learn/issues/21755 */display: inline-block !important;position: relative;}#sk-container-id-2 div.sk-text-repr-fallback {display: none;}</style><div id=\"sk-container-id-2\" class=\"sk-top-container\"><div class=\"sk-text-repr-fallback\"><pre>KMeans(n_clusters=3, random_state=0)</pre><b>In a Jupyter environment, please rerun this cell to show the HTML representation or trust the notebook. <br />On GitHub, the HTML representation is unable to render, please try loading this page with nbviewer.org.</b></div><div class=\"sk-container\" hidden><div class=\"sk-item\"><div class=\"sk-estimator sk-toggleable\"><input class=\"sk-toggleable__control sk-hidden--visually\" id=\"sk-estimator-id-2\" type=\"checkbox\" checked><label for=\"sk-estimator-id-2\" class=\"sk-toggleable__label sk-toggleable__label-arrow\">KMeans</label><div class=\"sk-toggleable__content\"><pre>KMeans(n_clusters=3, random_state=0)</pre></div></div></div></div></div>"
      ],
      "text/plain": [
       "KMeans(n_clusters=3, random_state=0)"
      ]
     },
     "execution_count": 18,
     "metadata": {},
     "output_type": "execute_result"
    }
   ],
   "source": [
    "kmeans_opt = KMeans(n_clusters = 3,random_state=0)\n",
    "kmeans_opt.fit(df)"
   ]
  },
  {
   "cell_type": "code",
   "execution_count": 20,
   "id": "069cf2b8-8f38-44b2-8844-0af7ca29143e",
   "metadata": {},
   "outputs": [],
   "source": [
    "y = kmeans_opt.predict(df)"
   ]
  },
  {
   "cell_type": "code",
   "execution_count": 21,
   "id": "4847ac9a-c942-42bd-81be-548f2a9082f2",
   "metadata": {},
   "outputs": [],
   "source": [
    "df[\"Predicted\"]=y"
   ]
  },
  {
   "cell_type": "code",
   "execution_count": 24,
   "id": "74064942-ebba-42da-990f-32b6701a6b1a",
   "metadata": {},
   "outputs": [],
   "source": [
    "df_result = df[[\"id\",\"Predicted\"]]"
   ]
  },
  {
   "cell_type": "code",
   "execution_count": 27,
   "id": "0b57ff70-a0bc-465e-a3d7-95b40a3b23d4",
   "metadata": {},
   "outputs": [],
   "source": [
    "df_result.to_csv(\"out.csv\",index=False)"
   ]
  },
  {
   "cell_type": "code",
   "execution_count": null,
   "id": "070dac91-8fb1-4094-bff8-8ee44505255c",
   "metadata": {},
   "outputs": [],
   "source": []
  }
 ],
 "metadata": {
  "kernelspec": {
   "display_name": "Python 3 (ipykernel)",
   "language": "python",
   "name": "python3"
  },
  "language_info": {
   "codemirror_mode": {
    "name": "ipython",
    "version": 3
   },
   "file_extension": ".py",
   "mimetype": "text/x-python",
   "name": "python",
   "nbconvert_exporter": "python",
   "pygments_lexer": "ipython3",
   "version": "3.10.2"
  }
 },
 "nbformat": 4,
 "nbformat_minor": 5
}
