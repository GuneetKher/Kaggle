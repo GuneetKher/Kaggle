{
 "cells": [
  {
   "cell_type": "code",
   "execution_count": 1,
   "id": "ea1ab801-5a0e-410a-a28e-0b04105dcb20",
   "metadata": {},
   "outputs": [],
   "source": [
    "import pandas as pd\n",
    "import numpy as np\n",
    "import matplotlib.pyplot as plt\n",
    "import seaborn as sns"
   ]
  },
  {
   "cell_type": "code",
   "execution_count": 2,
   "id": "480babe8-9e41-4f1c-acf6-027e426891fa",
   "metadata": {},
   "outputs": [],
   "source": [
    "df = pd.read_csv(\"data.csv\",index_col=\"id\")"
   ]
  },
  {
   "cell_type": "code",
   "execution_count": 4,
   "id": "efab01a1-1eb5-42dc-bb98-95d57f55ac2a",
   "metadata": {},
   "outputs": [],
   "source": [
    "from sklearn.preprocessing import normalize"
   ]
  },
  {
   "cell_type": "code",
   "execution_count": 5,
   "id": "73fbdd9f-1b24-4b2b-9f6c-b38ecefa148d",
   "metadata": {},
   "outputs": [],
   "source": [
    "data = normalize(df)"
   ]
  },
  {
   "cell_type": "code",
   "execution_count": 7,
   "id": "9385f6a3-906b-4c9d-b63d-a316918e8afc",
   "metadata": {},
   "outputs": [],
   "source": [
    "data = pd.DataFrame(data,columns=df.columns)"
   ]
  },
  {
   "cell_type": "code",
   "execution_count": 9,
   "id": "e523553b-eb65-4b46-bb4a-92376b9bea79",
   "metadata": {},
   "outputs": [
    {
     "data": {
      "text/html": [
       "<div>\n",
       "<style scoped>\n",
       "    .dataframe tbody tr th:only-of-type {\n",
       "        vertical-align: middle;\n",
       "    }\n",
       "\n",
       "    .dataframe tbody tr th {\n",
       "        vertical-align: top;\n",
       "    }\n",
       "\n",
       "    .dataframe thead th {\n",
       "        text-align: right;\n",
       "    }\n",
       "</style>\n",
       "<table border=\"1\" class=\"dataframe\">\n",
       "  <thead>\n",
       "    <tr style=\"text-align: right;\">\n",
       "      <th></th>\n",
       "      <th>f_00</th>\n",
       "      <th>f_01</th>\n",
       "      <th>f_02</th>\n",
       "      <th>f_03</th>\n",
       "      <th>f_04</th>\n",
       "      <th>f_05</th>\n",
       "      <th>f_06</th>\n",
       "      <th>f_07</th>\n",
       "      <th>f_08</th>\n",
       "      <th>f_09</th>\n",
       "      <th>...</th>\n",
       "      <th>f_19</th>\n",
       "      <th>f_20</th>\n",
       "      <th>f_21</th>\n",
       "      <th>f_22</th>\n",
       "      <th>f_23</th>\n",
       "      <th>f_24</th>\n",
       "      <th>f_25</th>\n",
       "      <th>f_26</th>\n",
       "      <th>f_27</th>\n",
       "      <th>f_28</th>\n",
       "    </tr>\n",
       "  </thead>\n",
       "  <tbody>\n",
       "    <tr>\n",
       "      <th>0</th>\n",
       "      <td>-0.015210</td>\n",
       "      <td>-0.035652</td>\n",
       "      <td>0.025347</td>\n",
       "      <td>0.023007</td>\n",
       "      <td>-0.032451</td>\n",
       "      <td>0.028654</td>\n",
       "      <td>0.088216</td>\n",
       "      <td>0.078117</td>\n",
       "      <td>0.507761</td>\n",
       "      <td>0.546820</td>\n",
       "      <td>...</td>\n",
       "      <td>-0.018686</td>\n",
       "      <td>-0.029567</td>\n",
       "      <td>-0.029826</td>\n",
       "      <td>-0.042588</td>\n",
       "      <td>0.044630</td>\n",
       "      <td>-0.034538</td>\n",
       "      <td>0.044445</td>\n",
       "      <td>0.051131</td>\n",
       "      <td>0.057143</td>\n",
       "      <td>0.031775</td>\n",
       "    </tr>\n",
       "    <tr>\n",
       "      <th>1</th>\n",
       "      <td>-0.032135</td>\n",
       "      <td>-0.021165</td>\n",
       "      <td>0.030500</td>\n",
       "      <td>0.046402</td>\n",
       "      <td>-0.077070</td>\n",
       "      <td>0.040274</td>\n",
       "      <td>-0.004226</td>\n",
       "      <td>0.093248</td>\n",
       "      <td>0.139871</td>\n",
       "      <td>0.279743</td>\n",
       "      <td>...</td>\n",
       "      <td>-0.019992</td>\n",
       "      <td>-0.004192</td>\n",
       "      <td>-0.083186</td>\n",
       "      <td>-0.039139</td>\n",
       "      <td>0.021432</td>\n",
       "      <td>0.082030</td>\n",
       "      <td>-0.012841</td>\n",
       "      <td>-0.039731</td>\n",
       "      <td>0.026224</td>\n",
       "      <td>-0.124977</td>\n",
       "    </tr>\n",
       "    <tr>\n",
       "      <th>2</th>\n",
       "      <td>0.036522</td>\n",
       "      <td>0.014651</td>\n",
       "      <td>-0.052841</td>\n",
       "      <td>-0.028190</td>\n",
       "      <td>0.004760</td>\n",
       "      <td>0.035388</td>\n",
       "      <td>0.089752</td>\n",
       "      <td>0.225701</td>\n",
       "      <td>0.496542</td>\n",
       "      <td>0.225701</td>\n",
       "      <td>...</td>\n",
       "      <td>-0.018667</td>\n",
       "      <td>-0.072332</td>\n",
       "      <td>0.053761</td>\n",
       "      <td>0.147478</td>\n",
       "      <td>-0.003987</td>\n",
       "      <td>-0.097893</td>\n",
       "      <td>-0.044011</td>\n",
       "      <td>0.060297</td>\n",
       "      <td>-0.050135</td>\n",
       "      <td>-0.163892</td>\n",
       "    </tr>\n",
       "    <tr>\n",
       "      <th>3</th>\n",
       "      <td>-0.024237</td>\n",
       "      <td>0.011082</td>\n",
       "      <td>0.012779</td>\n",
       "      <td>0.011202</td>\n",
       "      <td>0.020080</td>\n",
       "      <td>-0.059090</td>\n",
       "      <td>0.006718</td>\n",
       "      <td>0.290305</td>\n",
       "      <td>0.096768</td>\n",
       "      <td>0.628995</td>\n",
       "      <td>...</td>\n",
       "      <td>0.029964</td>\n",
       "      <td>0.062309</td>\n",
       "      <td>0.025781</td>\n",
       "      <td>0.050157</td>\n",
       "      <td>-0.098792</td>\n",
       "      <td>0.069697</td>\n",
       "      <td>-0.091939</td>\n",
       "      <td>-0.030519</td>\n",
       "      <td>-0.002450</td>\n",
       "      <td>0.011532</td>\n",
       "    </tr>\n",
       "    <tr>\n",
       "      <th>4</th>\n",
       "      <td>-0.031032</td>\n",
       "      <td>-0.048057</td>\n",
       "      <td>-0.012489</td>\n",
       "      <td>-0.084612</td>\n",
       "      <td>-0.013412</td>\n",
       "      <td>-0.085655</td>\n",
       "      <td>0.036147</td>\n",
       "      <td>0.369836</td>\n",
       "      <td>0.323607</td>\n",
       "      <td>0.231148</td>\n",
       "      <td>...</td>\n",
       "      <td>-0.075300</td>\n",
       "      <td>-0.020107</td>\n",
       "      <td>0.014909</td>\n",
       "      <td>0.013144</td>\n",
       "      <td>-0.112725</td>\n",
       "      <td>0.068139</td>\n",
       "      <td>-0.048295</td>\n",
       "      <td>0.074091</td>\n",
       "      <td>-0.018735</td>\n",
       "      <td>-0.091870</td>\n",
       "    </tr>\n",
       "  </tbody>\n",
       "</table>\n",
       "<p>5 rows × 29 columns</p>\n",
       "</div>"
      ],
      "text/plain": [
       "       f_00      f_01      f_02      f_03      f_04      f_05      f_06  \\\n",
       "0 -0.015210 -0.035652  0.025347  0.023007 -0.032451  0.028654  0.088216   \n",
       "1 -0.032135 -0.021165  0.030500  0.046402 -0.077070  0.040274 -0.004226   \n",
       "2  0.036522  0.014651 -0.052841 -0.028190  0.004760  0.035388  0.089752   \n",
       "3 -0.024237  0.011082  0.012779  0.011202  0.020080 -0.059090  0.006718   \n",
       "4 -0.031032 -0.048057 -0.012489 -0.084612 -0.013412 -0.085655  0.036147   \n",
       "\n",
       "       f_07      f_08      f_09  ...      f_19      f_20      f_21      f_22  \\\n",
       "0  0.078117  0.507761  0.546820  ... -0.018686 -0.029567 -0.029826 -0.042588   \n",
       "1  0.093248  0.139871  0.279743  ... -0.019992 -0.004192 -0.083186 -0.039139   \n",
       "2  0.225701  0.496542  0.225701  ... -0.018667 -0.072332  0.053761  0.147478   \n",
       "3  0.290305  0.096768  0.628995  ...  0.029964  0.062309  0.025781  0.050157   \n",
       "4  0.369836  0.323607  0.231148  ... -0.075300 -0.020107  0.014909  0.013144   \n",
       "\n",
       "       f_23      f_24      f_25      f_26      f_27      f_28  \n",
       "0  0.044630 -0.034538  0.044445  0.051131  0.057143  0.031775  \n",
       "1  0.021432  0.082030 -0.012841 -0.039731  0.026224 -0.124977  \n",
       "2 -0.003987 -0.097893 -0.044011  0.060297 -0.050135 -0.163892  \n",
       "3 -0.098792  0.069697 -0.091939 -0.030519 -0.002450  0.011532  \n",
       "4 -0.112725  0.068139 -0.048295  0.074091 -0.018735 -0.091870  \n",
       "\n",
       "[5 rows x 29 columns]"
      ]
     },
     "execution_count": 9,
     "metadata": {},
     "output_type": "execute_result"
    }
   ],
   "source": [
    "data.head()"
   ]
  },
  {
   "cell_type": "code",
   "execution_count": 11,
   "id": "b0e1e2a7-1e75-405d-ab54-4c6d47faead4",
   "metadata": {},
   "outputs": [],
   "source": [
    "import scipy.cluster.hierarchy as shc"
   ]
  },
  {
   "cell_type": "code",
   "execution_count": 17,
   "id": "0cd6df98-7aa3-4489-b359-703ce1df881d",
   "metadata": {},
   "outputs": [
    {
     "data": {
      "image/png": "[encoded data removed]",
      "text/plain": [
       "<Figure size 1080x504 with 1 Axes>"
      ]
     },
     "metadata": {
      "needs_background": "light"
     },
     "output_type": "display_data"
    }
   ],
   "source": [
    "plt.figure(figsize=(15,7))\n",
    "plt.title(\"Dendrogram\")\n",
    "dend = shc.dendrogram(shc.linkage(data[:1000],method='ward'))\n"
   ]
  },
  {
   "cell_type": "code",
   "execution_count": null,
   "id": "7d9dbb9f-8d08-4cce-8075-56f4dc1a112e",
   "metadata": {},
   "outputs": [],
   "source": []
  }
 ],
 "metadata": {
  "kernelspec": {
   "display_name": "Python 3 (ipykernel)",
   "language": "python",
   "name": "python3"
  },
  "language_info": {
   "codemirror_mode": {
    "name": "ipython",
    "version": 3
   },
   "file_extension": ".py",
   "mimetype": "text/x-python",
   "name": "python",
   "nbconvert_exporter": "python",
   "pygments_lexer": "ipython3",
   "version": "3.10.2"
  }
 },
 "nbformat": 4,
 "nbformat_minor": 5
}
