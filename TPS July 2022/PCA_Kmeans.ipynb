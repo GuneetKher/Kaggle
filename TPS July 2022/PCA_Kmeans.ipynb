{
 "cells": [
  {
   "cell_type": "code",
   "execution_count": 2,
   "id": "175266b5-db65-4355-be0c-1f76bbe9627e",
   "metadata": {},
   "outputs": [],
   "source": [
    "import pandas as pd\n",
    "import numpy as np\n",
    "import matplotlib.pyplot as plt\n",
    "import seaborn as sns"
   ]
  },
  {
   "cell_type": "code",
   "execution_count": 4,
   "id": "12fc1cf3-267f-4a2e-9f71-10d62876c3a0",
   "metadata": {},
   "outputs": [],
   "source": [
    "df = pd.read_csv(\"data.csv\",index_col='id')"
   ]
  },
  {
   "cell_type": "code",
   "execution_count": 5,
   "id": "3d36c198-9dc3-407c-b566-3a64df8f9393",
   "metadata": {},
   "outputs": [
    {
     "data": {
      "text/html": [
       "<div>\n",
       "<style scoped>\n",
       "    .dataframe tbody tr th:only-of-type {\n",
       "        vertical-align: middle;\n",
       "    }\n",
       "\n",
       "    .dataframe tbody tr th {\n",
       "        vertical-align: top;\n",
       "    }\n",
       "\n",
       "    .dataframe thead th {\n",
       "        text-align: right;\n",
       "    }\n",
       "</style>\n",
       "<table border=\"1\" class=\"dataframe\">\n",
       "  <thead>\n",
       "    <tr style=\"text-align: right;\">\n",
       "      <th></th>\n",
       "      <th>f_00</th>\n",
       "      <th>f_01</th>\n",
       "      <th>f_02</th>\n",
       "      <th>f_03</th>\n",
       "      <th>f_04</th>\n",
       "      <th>f_05</th>\n",
       "      <th>f_06</th>\n",
       "      <th>f_07</th>\n",
       "      <th>f_08</th>\n",
       "      <th>f_09</th>\n",
       "      <th>...</th>\n",
       "      <th>f_19</th>\n",
       "      <th>f_20</th>\n",
       "      <th>f_21</th>\n",
       "      <th>f_22</th>\n",
       "      <th>f_23</th>\n",
       "      <th>f_24</th>\n",
       "      <th>f_25</th>\n",
       "      <th>f_26</th>\n",
       "      <th>f_27</th>\n",
       "      <th>f_28</th>\n",
       "    </tr>\n",
       "    <tr>\n",
       "      <th>id</th>\n",
       "      <th></th>\n",
       "      <th></th>\n",
       "      <th></th>\n",
       "      <th></th>\n",
       "      <th></th>\n",
       "      <th></th>\n",
       "      <th></th>\n",
       "      <th></th>\n",
       "      <th></th>\n",
       "      <th></th>\n",
       "      <th></th>\n",
       "      <th></th>\n",
       "      <th></th>\n",
       "      <th></th>\n",
       "      <th></th>\n",
       "      <th></th>\n",
       "      <th></th>\n",
       "      <th></th>\n",
       "      <th></th>\n",
       "      <th></th>\n",
       "      <th></th>\n",
       "    </tr>\n",
       "  </thead>\n",
       "  <tbody>\n",
       "    <tr>\n",
       "      <th>0</th>\n",
       "      <td>-0.389420</td>\n",
       "      <td>-0.912791</td>\n",
       "      <td>0.648951</td>\n",
       "      <td>0.589045</td>\n",
       "      <td>-0.830817</td>\n",
       "      <td>0.733624</td>\n",
       "      <td>2.258560</td>\n",
       "      <td>2</td>\n",
       "      <td>13</td>\n",
       "      <td>14</td>\n",
       "      <td>...</td>\n",
       "      <td>-0.478412</td>\n",
       "      <td>-0.757002</td>\n",
       "      <td>-0.763635</td>\n",
       "      <td>-1.090369</td>\n",
       "      <td>1.142641</td>\n",
       "      <td>-0.884274</td>\n",
       "      <td>1.137896</td>\n",
       "      <td>1.309073</td>\n",
       "      <td>1.463002</td>\n",
       "      <td>0.813527</td>\n",
       "    </tr>\n",
       "    <tr>\n",
       "      <th>1</th>\n",
       "      <td>-0.689249</td>\n",
       "      <td>-0.453954</td>\n",
       "      <td>0.654175</td>\n",
       "      <td>0.995248</td>\n",
       "      <td>-1.653020</td>\n",
       "      <td>0.863810</td>\n",
       "      <td>-0.090651</td>\n",
       "      <td>2</td>\n",
       "      <td>3</td>\n",
       "      <td>6</td>\n",
       "      <td>...</td>\n",
       "      <td>-0.428791</td>\n",
       "      <td>-0.089908</td>\n",
       "      <td>-1.784204</td>\n",
       "      <td>-0.839474</td>\n",
       "      <td>0.459685</td>\n",
       "      <td>1.759412</td>\n",
       "      <td>-0.275422</td>\n",
       "      <td>-0.852168</td>\n",
       "      <td>0.562457</td>\n",
       "      <td>-2.680541</td>\n",
       "    </tr>\n",
       "    <tr>\n",
       "      <th>2</th>\n",
       "      <td>0.809079</td>\n",
       "      <td>0.324568</td>\n",
       "      <td>-1.170602</td>\n",
       "      <td>-0.624491</td>\n",
       "      <td>0.105448</td>\n",
       "      <td>0.783948</td>\n",
       "      <td>1.988301</td>\n",
       "      <td>5</td>\n",
       "      <td>11</td>\n",
       "      <td>5</td>\n",
       "      <td>...</td>\n",
       "      <td>-0.413534</td>\n",
       "      <td>-1.602377</td>\n",
       "      <td>1.190984</td>\n",
       "      <td>3.267116</td>\n",
       "      <td>-0.088322</td>\n",
       "      <td>-2.168635</td>\n",
       "      <td>-0.974989</td>\n",
       "      <td>1.335763</td>\n",
       "      <td>-1.110655</td>\n",
       "      <td>-3.630723</td>\n",
       "    </tr>\n",
       "    <tr>\n",
       "      <th>3</th>\n",
       "      <td>-0.500923</td>\n",
       "      <td>0.229049</td>\n",
       "      <td>0.264109</td>\n",
       "      <td>0.231520</td>\n",
       "      <td>0.415012</td>\n",
       "      <td>-1.221269</td>\n",
       "      <td>0.138850</td>\n",
       "      <td>6</td>\n",
       "      <td>2</td>\n",
       "      <td>13</td>\n",
       "      <td>...</td>\n",
       "      <td>0.619283</td>\n",
       "      <td>1.287801</td>\n",
       "      <td>0.532837</td>\n",
       "      <td>1.036631</td>\n",
       "      <td>-2.041828</td>\n",
       "      <td>1.440490</td>\n",
       "      <td>-1.900191</td>\n",
       "      <td>-0.630771</td>\n",
       "      <td>-0.050641</td>\n",
       "      <td>0.238333</td>\n",
       "    </tr>\n",
       "    <tr>\n",
       "      <th>4</th>\n",
       "      <td>-0.671268</td>\n",
       "      <td>-1.039533</td>\n",
       "      <td>-0.270155</td>\n",
       "      <td>-1.830264</td>\n",
       "      <td>-0.290108</td>\n",
       "      <td>-1.852809</td>\n",
       "      <td>0.781898</td>\n",
       "      <td>8</td>\n",
       "      <td>7</td>\n",
       "      <td>5</td>\n",
       "      <td>...</td>\n",
       "      <td>-1.628830</td>\n",
       "      <td>-0.434948</td>\n",
       "      <td>0.322505</td>\n",
       "      <td>0.284326</td>\n",
       "      <td>-2.438365</td>\n",
       "      <td>1.473930</td>\n",
       "      <td>-1.044684</td>\n",
       "      <td>1.602686</td>\n",
       "      <td>-0.405263</td>\n",
       "      <td>-1.987263</td>\n",
       "    </tr>\n",
       "  </tbody>\n",
       "</table>\n",
       "<p>5 rows × 29 columns</p>\n",
       "</div>"
      ],
      "text/plain": [
       "        f_00      f_01      f_02      f_03      f_04      f_05      f_06  \\\n",
       "id                                                                         \n",
       "0  -0.389420 -0.912791  0.648951  0.589045 -0.830817  0.733624  2.258560   \n",
       "1  -0.689249 -0.453954  0.654175  0.995248 -1.653020  0.863810 -0.090651   \n",
       "2   0.809079  0.324568 -1.170602 -0.624491  0.105448  0.783948  1.988301   \n",
       "3  -0.500923  0.229049  0.264109  0.231520  0.415012 -1.221269  0.138850   \n",
       "4  -0.671268 -1.039533 -0.270155 -1.830264 -0.290108 -1.852809  0.781898   \n",
       "\n",
       "    f_07  f_08  f_09  ...      f_19      f_20      f_21      f_22      f_23  \\\n",
       "id                    ...                                                     \n",
       "0      2    13    14  ... -0.478412 -0.757002 -0.763635 -1.090369  1.142641   \n",
       "1      2     3     6  ... -0.428791 -0.089908 -1.784204 -0.839474  0.459685   \n",
       "2      5    11     5  ... -0.413534 -1.602377  1.190984  3.267116 -0.088322   \n",
       "3      6     2    13  ...  0.619283  1.287801  0.532837  1.036631 -2.041828   \n",
       "4      8     7     5  ... -1.628830 -0.434948  0.322505  0.284326 -2.438365   \n",
       "\n",
       "        f_24      f_25      f_26      f_27      f_28  \n",
       "id                                                    \n",
       "0  -0.884274  1.137896  1.309073  1.463002  0.813527  \n",
       "1   1.759412 -0.275422 -0.852168  0.562457 -2.680541  \n",
       "2  -2.168635 -0.974989  1.335763 -1.110655 -3.630723  \n",
       "3   1.440490 -1.900191 -0.630771 -0.050641  0.238333  \n",
       "4   1.473930 -1.044684  1.602686 -0.405263 -1.987263  \n",
       "\n",
       "[5 rows x 29 columns]"
      ]
     },
     "execution_count": 5,
     "metadata": {},
     "output_type": "execute_result"
    }
   ],
   "source": [
    "df.head()"
   ]
  },
  {
   "cell_type": "code",
   "execution_count": 6,
   "id": "602e726d-a2ab-4c73-86c7-575fc4666ea1",
   "metadata": {},
   "outputs": [],
   "source": [
    "from sklearn.cluster import DBSCAN\n",
    "from sklearn import metrics\n",
    "from sklearn.preprocessing import StandardScaler\n",
    "from sklearn.neighbors import NearestNeighbors"
   ]
  },
  {
   "cell_type": "code",
   "execution_count": 7,
   "id": "08047c76-5ad8-4dec-8668-52283dce0d38",
   "metadata": {},
   "outputs": [],
   "source": [
    "data = pd.DataFrame(StandardScaler().fit_transform(df),columns=df.columns)"
   ]
  },
  {
   "cell_type": "code",
   "execution_count": 8,
   "id": "abae8ebd-20cc-44e0-a3be-44b8e77935a8",
   "metadata": {},
   "outputs": [
    {
     "data": {
      "text/html": [
       "<div>\n",
       "<style scoped>\n",
       "    .dataframe tbody tr th:only-of-type {\n",
       "        vertical-align: middle;\n",
       "    }\n",
       "\n",
       "    .dataframe tbody tr th {\n",
       "        vertical-align: top;\n",
       "    }\n",
       "\n",
       "    .dataframe thead th {\n",
       "        text-align: right;\n",
       "    }\n",
       "</style>\n",
       "<table border=\"1\" class=\"dataframe\">\n",
       "  <thead>\n",
       "    <tr style=\"text-align: right;\">\n",
       "      <th></th>\n",
       "      <th>f_00</th>\n",
       "      <th>f_01</th>\n",
       "      <th>f_02</th>\n",
       "      <th>f_03</th>\n",
       "      <th>f_04</th>\n",
       "      <th>f_05</th>\n",
       "      <th>f_06</th>\n",
       "      <th>f_07</th>\n",
       "      <th>f_08</th>\n",
       "      <th>f_09</th>\n",
       "      <th>...</th>\n",
       "      <th>f_19</th>\n",
       "      <th>f_20</th>\n",
       "      <th>f_21</th>\n",
       "      <th>f_22</th>\n",
       "      <th>f_23</th>\n",
       "      <th>f_24</th>\n",
       "      <th>f_25</th>\n",
       "      <th>f_26</th>\n",
       "      <th>f_27</th>\n",
       "      <th>f_28</th>\n",
       "    </tr>\n",
       "  </thead>\n",
       "  <tbody>\n",
       "    <tr>\n",
       "      <th>0</th>\n",
       "      <td>-0.389551</td>\n",
       "      <td>-0.917695</td>\n",
       "      <td>0.649105</td>\n",
       "      <td>0.589499</td>\n",
       "      <td>-0.824775</td>\n",
       "      <td>0.734849</td>\n",
       "      <td>2.267432</td>\n",
       "      <td>-0.960479</td>\n",
       "      <td>1.502035</td>\n",
       "      <td>0.983395</td>\n",
       "      <td>...</td>\n",
       "      <td>-0.471839</td>\n",
       "      <td>-0.754257</td>\n",
       "      <td>-0.762195</td>\n",
       "      <td>-0.711585</td>\n",
       "      <td>0.911572</td>\n",
       "      <td>-0.680948</td>\n",
       "      <td>0.762783</td>\n",
       "      <td>0.960482</td>\n",
       "      <td>1.045296</td>\n",
       "      <td>0.683323</td>\n",
       "    </tr>\n",
       "    <tr>\n",
       "      <th>1</th>\n",
       "      <td>-0.688544</td>\n",
       "      <td>-0.459195</td>\n",
       "      <td>0.654321</td>\n",
       "      <td>0.995533</td>\n",
       "      <td>-1.644472</td>\n",
       "      <td>0.864967</td>\n",
       "      <td>-0.087835</td>\n",
       "      <td>-0.960479</td>\n",
       "      <td>-0.906254</td>\n",
       "      <td>-0.371415</td>\n",
       "      <td>...</td>\n",
       "      <td>-0.422434</td>\n",
       "      <td>-0.089129</td>\n",
       "      <td>-1.783073</td>\n",
       "      <td>-0.541815</td>\n",
       "      <td>0.454693</td>\n",
       "      <td>1.032386</td>\n",
       "      <td>-0.133948</td>\n",
       "      <td>-0.552942</td>\n",
       "      <td>0.355435</td>\n",
       "      <td>-1.602671</td>\n",
       "    </tr>\n",
       "    <tr>\n",
       "      <th>2</th>\n",
       "      <td>0.805607</td>\n",
       "      <td>0.318753</td>\n",
       "      <td>-1.167963</td>\n",
       "      <td>-0.623531</td>\n",
       "      <td>0.108638</td>\n",
       "      <td>0.785146</td>\n",
       "      <td>1.996476</td>\n",
       "      <td>-0.147872</td>\n",
       "      <td>1.020377</td>\n",
       "      <td>-0.540766</td>\n",
       "      <td>...</td>\n",
       "      <td>-0.407243</td>\n",
       "      <td>-1.597140</td>\n",
       "      <td>1.193015</td>\n",
       "      <td>2.236943</td>\n",
       "      <td>0.088090</td>\n",
       "      <td>-1.513324</td>\n",
       "      <td>-0.577814</td>\n",
       "      <td>0.979171</td>\n",
       "      <td>-0.926250</td>\n",
       "      <td>-2.224327</td>\n",
       "    </tr>\n",
       "    <tr>\n",
       "      <th>3</th>\n",
       "      <td>-0.500743</td>\n",
       "      <td>0.223305</td>\n",
       "      <td>0.264788</td>\n",
       "      <td>0.232124</td>\n",
       "      <td>0.417259</td>\n",
       "      <td>-1.219016</td>\n",
       "      <td>0.142257</td>\n",
       "      <td>0.122997</td>\n",
       "      <td>-1.147082</td>\n",
       "      <td>0.814044</td>\n",
       "      <td>...</td>\n",
       "      <td>0.621083</td>\n",
       "      <td>1.284518</td>\n",
       "      <td>0.534669</td>\n",
       "      <td>0.727667</td>\n",
       "      <td>-1.218753</td>\n",
       "      <td>0.825698</td>\n",
       "      <td>-1.164842</td>\n",
       "      <td>-0.397908</td>\n",
       "      <td>-0.114228</td>\n",
       "      <td>0.307002</td>\n",
       "    </tr>\n",
       "    <tr>\n",
       "      <th>4</th>\n",
       "      <td>-0.670613</td>\n",
       "      <td>-1.044343</td>\n",
       "      <td>-0.268745</td>\n",
       "      <td>-1.828801</td>\n",
       "      <td>-0.285713</td>\n",
       "      <td>-1.850223</td>\n",
       "      <td>0.786963</td>\n",
       "      <td>0.664735</td>\n",
       "      <td>0.057062</td>\n",
       "      <td>-0.540766</td>\n",
       "      <td>...</td>\n",
       "      <td>-1.617255</td>\n",
       "      <td>-0.433152</td>\n",
       "      <td>0.324273</td>\n",
       "      <td>0.218614</td>\n",
       "      <td>-1.484025</td>\n",
       "      <td>0.847369</td>\n",
       "      <td>-0.622034</td>\n",
       "      <td>1.166086</td>\n",
       "      <td>-0.385886</td>\n",
       "      <td>-1.149094</td>\n",
       "    </tr>\n",
       "  </tbody>\n",
       "</table>\n",
       "<p>5 rows × 29 columns</p>\n",
       "</div>"
      ],
      "text/plain": [
       "       f_00      f_01      f_02      f_03      f_04      f_05      f_06  \\\n",
       "0 -0.389551 -0.917695  0.649105  0.589499 -0.824775  0.734849  2.267432   \n",
       "1 -0.688544 -0.459195  0.654321  0.995533 -1.644472  0.864967 -0.087835   \n",
       "2  0.805607  0.318753 -1.167963 -0.623531  0.108638  0.785146  1.996476   \n",
       "3 -0.500743  0.223305  0.264788  0.232124  0.417259 -1.219016  0.142257   \n",
       "4 -0.670613 -1.044343 -0.268745 -1.828801 -0.285713 -1.850223  0.786963   \n",
       "\n",
       "       f_07      f_08      f_09  ...      f_19      f_20      f_21      f_22  \\\n",
       "0 -0.960479  1.502035  0.983395  ... -0.471839 -0.754257 -0.762195 -0.711585   \n",
       "1 -0.960479 -0.906254 -0.371415  ... -0.422434 -0.089129 -1.783073 -0.541815   \n",
       "2 -0.147872  1.020377 -0.540766  ... -0.407243 -1.597140  1.193015  2.236943   \n",
       "3  0.122997 -1.147082  0.814044  ...  0.621083  1.284518  0.534669  0.727667   \n",
       "4  0.664735  0.057062 -0.540766  ... -1.617255 -0.433152  0.324273  0.218614   \n",
       "\n",
       "       f_23      f_24      f_25      f_26      f_27      f_28  \n",
       "0  0.911572 -0.680948  0.762783  0.960482  1.045296  0.683323  \n",
       "1  0.454693  1.032386 -0.133948 -0.552942  0.355435 -1.602671  \n",
       "2  0.088090 -1.513324 -0.577814  0.979171 -0.926250 -2.224327  \n",
       "3 -1.218753  0.825698 -1.164842 -0.397908 -0.114228  0.307002  \n",
       "4 -1.484025  0.847369 -0.622034  1.166086 -0.385886 -1.149094  \n",
       "\n",
       "[5 rows x 29 columns]"
      ]
     },
     "execution_count": 8,
     "metadata": {},
     "output_type": "execute_result"
    }
   ],
   "source": [
    "data.head()"
   ]
  },
  {
   "cell_type": "code",
   "execution_count": 9,
   "id": "4e14c050-2474-4318-9fc6-5143fe3c7ecc",
   "metadata": {},
   "outputs": [
    {
     "data": {
      "text/html": [
       "<style>#sk-container-id-2 {color: black;background-color: white;}#sk-container-id-2 pre{padding: 0;}#sk-container-id-2 div.sk-toggleable {background-color: white;}#sk-container-id-2 label.sk-toggleable__label {cursor: pointer;display: block;width: 100%;margin-bottom: 0;padding: 0.3em;box-sizing: border-box;text-align: center;}#sk-container-id-2 label.sk-toggleable__label-arrow:before {content: \"▸\";float: left;margin-right: 0.25em;color: #696969;}#sk-container-id-2 label.sk-toggleable__label-arrow:hover:before {color: black;}#sk-container-id-2 div.sk-estimator:hover label.sk-toggleable__label-arrow:before {color: black;}#sk-container-id-2 div.sk-toggleable__content {max-height: 0;max-width: 0;overflow: hidden;text-align: left;background-color: #f0f8ff;}#sk-container-id-2 div.sk-toggleable__content pre {margin: 0.2em;color: black;border-radius: 0.25em;background-color: #f0f8ff;}#sk-container-id-2 input.sk-toggleable__control:checked~div.sk-toggleable__content {max-height: 200px;max-width: 100%;overflow: auto;}#sk-container-id-2 input.sk-toggleable__control:checked~label.sk-toggleable__label-arrow:before {content: \"▾\";}#sk-container-id-2 div.sk-estimator input.sk-toggleable__control:checked~label.sk-toggleable__label {background-color: #d4ebff;}#sk-container-id-2 div.sk-label input.sk-toggleable__control:checked~label.sk-toggleable__label {background-color: #d4ebff;}#sk-container-id-2 input.sk-hidden--visually {border: 0;clip: rect(1px 1px 1px 1px);clip: rect(1px, 1px, 1px, 1px);height: 1px;margin: -1px;overflow: hidden;padding: 0;position: absolute;width: 1px;}#sk-container-id-2 div.sk-estimator {font-family: monospace;background-color: #f0f8ff;border: 1px dotted black;border-radius: 0.25em;box-sizing: border-box;margin-bottom: 0.5em;}#sk-container-id-2 div.sk-estimator:hover {background-color: #d4ebff;}#sk-container-id-2 div.sk-parallel-item::after {content: \"\";width: 100%;border-bottom: 1px solid gray;flex-grow: 1;}#sk-container-id-2 div.sk-label:hover label.sk-toggleable__label {background-color: #d4ebff;}#sk-container-id-2 div.sk-serial::before {content: \"\";position: absolute;border-left: 1px solid gray;box-sizing: border-box;top: 0;bottom: 0;left: 50%;z-index: 0;}#sk-container-id-2 div.sk-serial {display: flex;flex-direction: column;align-items: center;background-color: white;padding-right: 0.2em;padding-left: 0.2em;position: relative;}#sk-container-id-2 div.sk-item {position: relative;z-index: 1;}#sk-container-id-2 div.sk-parallel {display: flex;align-items: stretch;justify-content: center;background-color: white;position: relative;}#sk-container-id-2 div.sk-item::before, #sk-container-id-2 div.sk-parallel-item::before {content: \"\";position: absolute;border-left: 1px solid gray;box-sizing: border-box;top: 0;bottom: 0;left: 50%;z-index: -1;}#sk-container-id-2 div.sk-parallel-item {display: flex;flex-direction: column;z-index: 1;position: relative;background-color: white;}#sk-container-id-2 div.sk-parallel-item:first-child::after {align-self: flex-end;width: 50%;}#sk-container-id-2 div.sk-parallel-item:last-child::after {align-self: flex-start;width: 50%;}#sk-container-id-2 div.sk-parallel-item:only-child::after {width: 0;}#sk-container-id-2 div.sk-dashed-wrapped {border: 1px dashed gray;margin: 0 0.4em 0.5em 0.4em;box-sizing: border-box;padding-bottom: 0.4em;background-color: white;}#sk-container-id-2 div.sk-label label {font-family: monospace;font-weight: bold;display: inline-block;line-height: 1.2em;}#sk-container-id-2 div.sk-label-container {text-align: center;}#sk-container-id-2 div.sk-container {/* jupyter's `normalize.less` sets `[hidden] { display: none; }` but bootstrap.min.css set `[hidden] { display: none !important; }` so we also need the `!important` here to be able to override the default hidden behavior on the sphinx rendered scikit-learn.org. See: https://github.com/scikit-learn/scikit-learn/issues/21755 */display: inline-block !important;position: relative;}#sk-container-id-2 div.sk-text-repr-fallback {display: none;}</style><div id=\"sk-container-id-2\" class=\"sk-top-container\"><div class=\"sk-text-repr-fallback\"><pre>PCA(n_components=29, random_state=100)</pre><b>In a Jupyter environment, please rerun this cell to show the HTML representation or trust the notebook. <br />On GitHub, the HTML representation is unable to render, please try loading this page with nbviewer.org.</b></div><div class=\"sk-container\" hidden><div class=\"sk-item\"><div class=\"sk-estimator sk-toggleable\"><input class=\"sk-toggleable__control sk-hidden--visually\" id=\"sk-estimator-id-2\" type=\"checkbox\" checked><label for=\"sk-estimator-id-2\" class=\"sk-toggleable__label sk-toggleable__label-arrow\">PCA</label><div class=\"sk-toggleable__content\"><pre>PCA(n_components=29, random_state=100)</pre></div></div></div></div></div>"
      ],
      "text/plain": [
       "PCA(n_components=29, random_state=100)"
      ]
     },
     "execution_count": 15,
     "metadata": {},
     "output_type": "execute_result"
    }
   ],
   "source": [
    "from sklearn.decomposition import PCA\n",
    "pca_29 = PCA(n_components=29,random_state=0)\n",
    "pca_29.fit(data)"
   ]
  },
  {
   "cell_type": "code",
   "execution_count": 22,
   "id": "eb3edded-3f15-4c58-84a3-8932744e6389",
   "metadata": {},
   "outputs": [
    {
     "data": {
      "text/plain": [
       "array([6.27048219, 5.03138862, 4.54800267, 4.01260779, 3.86598244,\n",
       "       3.66095286, 3.52048191, 3.50779035, 3.50456007, 3.48597361,\n",
       "       3.47950962, 3.46144041, 3.45471781, 3.44865391, 3.44159084,\n",
       "       3.43414027, 3.42654439, 3.408401  , 3.39762594, 3.38033027,\n",
       "       3.37240794, 3.29009856, 3.1755181 , 2.89329233, 2.8290607 ,\n",
       "       2.72597183, 2.50688701, 2.27530529, 1.19028126])"
      ]
     },
     "execution_count": 22,
     "metadata": {},
     "output_type": "execute_result"
    }
   ],
   "source": [
    "data_pca_29 = pca_29.fit_transform(data)\n",
    "pca_29.explained_variance_ratio_ * 100"
   ]
  },
  {
   "cell_type": "code",
   "execution_count": 23,
   "id": "fd6cf064-29d3-4171-bf46-fe648d2ea4b5",
   "metadata": {},
   "outputs": [
    {
     "data": {
      "text/plain": [
       "array([  6.27048219,  11.3018708 ,  15.84987348,  19.86248127,\n",
       "        23.72846371,  27.38941657,  30.90989848,  34.41768883,\n",
       "        37.9222489 ,  41.40822252,  44.88773213,  48.34917254,\n",
       "        51.80389035,  55.25254427,  58.6941351 ,  62.12827537,\n",
       "        65.55481976,  68.96322076,  72.36084671,  75.74117698,\n",
       "        79.11358491,  82.40368348,  85.57920157,  88.47249391,\n",
       "        91.30155461,  94.02752644,  96.53441345,  98.80971874,\n",
       "       100.        ])"
      ]
     },
     "execution_count": 23,
     "metadata": {},
     "output_type": "execute_result"
    }
   ],
   "source": [
    "np.cumsum(pca_29.explained_variance_ratio_ * 100)"
   ]
  },
  {
   "cell_type": "code",
   "execution_count": 19,
   "id": "19deaca0-131f-4d7e-be87-481c9e915274",
   "metadata": {},
   "outputs": [
    {
     "data": {
      "text/plain": [
       "[<matplotlib.lines.Line2D at 0x1c0a53d7fd0>]"
      ]
     },
     "execution_count": 19,
     "metadata": {},
     "output_type": "execute_result"
    },
    {
     "data": {
      "image/png": "[encoded data removed]",
      "text/plain": [
       "<Figure size 432x288 with 1 Axes>"
      ]
     },
     "metadata": {
      "needs_background": "light"
     },
     "output_type": "display_data"
    }
   ],
   "source": [
    "plt.plot(np.cumsum(pca_29.explained_variance_ratio_ * 100))"
   ]
  },
  {
   "cell_type": "code",
   "execution_count": 29,
   "id": "85dfd110-4983-4215-9463-76a212a34b9e",
   "metadata": {},
   "outputs": [],
   "source": [
    "pca_20 = PCA(n_components=20)\n",
    "pca_20.fit(data)\n",
    "data_pca_20 = pca_20.fit_transform(data)"
   ]
  },
  {
   "cell_type": "code",
   "execution_count": 31,
   "id": "46c9d089-1d78-4eab-a30f-33be4de99b10",
   "metadata": {},
   "outputs": [
    {
     "data": {
      "text/html": [
       "<div>\n",
       "<style scoped>\n",
       "    .dataframe tbody tr th:only-of-type {\n",
       "        vertical-align: middle;\n",
       "    }\n",
       "\n",
       "    .dataframe tbody tr th {\n",
       "        vertical-align: top;\n",
       "    }\n",
       "\n",
       "    .dataframe thead th {\n",
       "        text-align: right;\n",
       "    }\n",
       "</style>\n",
       "<table border=\"1\" class=\"dataframe\">\n",
       "  <thead>\n",
       "    <tr style=\"text-align: right;\">\n",
       "      <th></th>\n",
       "      <th>0</th>\n",
       "      <th>1</th>\n",
       "      <th>2</th>\n",
       "      <th>3</th>\n",
       "      <th>4</th>\n",
       "      <th>5</th>\n",
       "      <th>6</th>\n",
       "      <th>7</th>\n",
       "      <th>8</th>\n",
       "      <th>9</th>\n",
       "      <th>10</th>\n",
       "      <th>11</th>\n",
       "      <th>12</th>\n",
       "      <th>13</th>\n",
       "      <th>14</th>\n",
       "      <th>15</th>\n",
       "      <th>16</th>\n",
       "      <th>17</th>\n",
       "      <th>18</th>\n",
       "      <th>19</th>\n",
       "    </tr>\n",
       "  </thead>\n",
       "  <tbody>\n",
       "    <tr>\n",
       "      <th>0</th>\n",
       "      <td>-0.719058</td>\n",
       "      <td>-0.018428</td>\n",
       "      <td>-1.014898</td>\n",
       "      <td>-1.852300</td>\n",
       "      <td>0.826982</td>\n",
       "      <td>0.114979</td>\n",
       "      <td>0.576083</td>\n",
       "      <td>-0.833193</td>\n",
       "      <td>1.125217</td>\n",
       "      <td>1.774150</td>\n",
       "      <td>-0.294687</td>\n",
       "      <td>-0.472469</td>\n",
       "      <td>-0.446818</td>\n",
       "      <td>1.538234</td>\n",
       "      <td>0.625080</td>\n",
       "      <td>-1.036402</td>\n",
       "      <td>-0.031938</td>\n",
       "      <td>0.708038</td>\n",
       "      <td>-0.441667</td>\n",
       "      <td>-0.419596</td>\n",
       "    </tr>\n",
       "    <tr>\n",
       "      <th>1</th>\n",
       "      <td>-1.012098</td>\n",
       "      <td>-0.920654</td>\n",
       "      <td>1.886847</td>\n",
       "      <td>1.260584</td>\n",
       "      <td>-0.212045</td>\n",
       "      <td>-1.256363</td>\n",
       "      <td>0.162246</td>\n",
       "      <td>-0.116176</td>\n",
       "      <td>-0.307030</td>\n",
       "      <td>1.164314</td>\n",
       "      <td>-0.025781</td>\n",
       "      <td>1.785673</td>\n",
       "      <td>0.575797</td>\n",
       "      <td>0.888766</td>\n",
       "      <td>0.878695</td>\n",
       "      <td>-1.086363</td>\n",
       "      <td>0.606499</td>\n",
       "      <td>-0.281521</td>\n",
       "      <td>-0.514156</td>\n",
       "      <td>0.529182</td>\n",
       "    </tr>\n",
       "    <tr>\n",
       "      <th>2</th>\n",
       "      <td>-1.370615</td>\n",
       "      <td>0.585542</td>\n",
       "      <td>-1.257203</td>\n",
       "      <td>0.820805</td>\n",
       "      <td>-0.151678</td>\n",
       "      <td>-0.570685</td>\n",
       "      <td>0.676353</td>\n",
       "      <td>-0.316492</td>\n",
       "      <td>1.164202</td>\n",
       "      <td>1.284616</td>\n",
       "      <td>-0.301215</td>\n",
       "      <td>-1.904486</td>\n",
       "      <td>0.248715</td>\n",
       "      <td>-0.171749</td>\n",
       "      <td>-0.923975</td>\n",
       "      <td>0.179910</td>\n",
       "      <td>-0.174228</td>\n",
       "      <td>-0.007068</td>\n",
       "      <td>0.125229</td>\n",
       "      <td>-2.126750</td>\n",
       "    </tr>\n",
       "    <tr>\n",
       "      <th>3</th>\n",
       "      <td>1.218932</td>\n",
       "      <td>0.171315</td>\n",
       "      <td>0.230498</td>\n",
       "      <td>1.053605</td>\n",
       "      <td>0.578840</td>\n",
       "      <td>-0.287229</td>\n",
       "      <td>-0.876048</td>\n",
       "      <td>0.081418</td>\n",
       "      <td>-0.350356</td>\n",
       "      <td>-0.760648</td>\n",
       "      <td>0.961114</td>\n",
       "      <td>-1.535650</td>\n",
       "      <td>-0.842737</td>\n",
       "      <td>-0.435367</td>\n",
       "      <td>0.531900</td>\n",
       "      <td>-0.450515</td>\n",
       "      <td>-0.089047</td>\n",
       "      <td>-0.000508</td>\n",
       "      <td>1.295040</td>\n",
       "      <td>1.347752</td>\n",
       "    </tr>\n",
       "    <tr>\n",
       "      <th>4</th>\n",
       "      <td>-1.025793</td>\n",
       "      <td>-0.151604</td>\n",
       "      <td>1.437407</td>\n",
       "      <td>2.500153</td>\n",
       "      <td>-0.523530</td>\n",
       "      <td>-0.436372</td>\n",
       "      <td>-2.411039</td>\n",
       "      <td>-0.901765</td>\n",
       "      <td>0.105160</td>\n",
       "      <td>0.014072</td>\n",
       "      <td>0.437853</td>\n",
       "      <td>0.381350</td>\n",
       "      <td>-0.922705</td>\n",
       "      <td>-0.070778</td>\n",
       "      <td>0.258698</td>\n",
       "      <td>0.997043</td>\n",
       "      <td>-0.159164</td>\n",
       "      <td>0.802116</td>\n",
       "      <td>0.415776</td>\n",
       "      <td>-1.944199</td>\n",
       "    </tr>\n",
       "  </tbody>\n",
       "</table>\n",
       "</div>"
      ],
      "text/plain": [
       "         0         1         2         3         4         5         6   \\\n",
       "0 -0.719058 -0.018428 -1.014898 -1.852300  0.826982  0.114979  0.576083   \n",
       "1 -1.012098 -0.920654  1.886847  1.260584 -0.212045 -1.256363  0.162246   \n",
       "2 -1.370615  0.585542 -1.257203  0.820805 -0.151678 -0.570685  0.676353   \n",
       "3  1.218932  0.171315  0.230498  1.053605  0.578840 -0.287229 -0.876048   \n",
       "4 -1.025793 -0.151604  1.437407  2.500153 -0.523530 -0.436372 -2.411039   \n",
       "\n",
       "         7         8         9         10        11        12        13  \\\n",
       "0 -0.833193  1.125217  1.774150 -0.294687 -0.472469 -0.446818  1.538234   \n",
       "1 -0.116176 -0.307030  1.164314 -0.025781  1.785673  0.575797  0.888766   \n",
       "2 -0.316492  1.164202  1.284616 -0.301215 -1.904486  0.248715 -0.171749   \n",
       "3  0.081418 -0.350356 -0.760648  0.961114 -1.535650 -0.842737 -0.435367   \n",
       "4 -0.901765  0.105160  0.014072  0.437853  0.381350 -0.922705 -0.070778   \n",
       "\n",
       "         14        15        16        17        18        19  \n",
       "0  0.625080 -1.036402 -0.031938  0.708038 -0.441667 -0.419596  \n",
       "1  0.878695 -1.086363  0.606499 -0.281521 -0.514156  0.529182  \n",
       "2 -0.923975  0.179910 -0.174228 -0.007068  0.125229 -2.126750  \n",
       "3  0.531900 -0.450515 -0.089047 -0.000508  1.295040  1.347752  \n",
       "4  0.258698  0.997043 -0.159164  0.802116  0.415776 -1.944199  "
      ]
     },
     "execution_count": 31,
     "metadata": {},
     "output_type": "execute_result"
    }
   ],
   "source": [
    "data_reduced = pd.DataFrame(data_pca_20)\n",
    "data_reduced.head()"
   ]
  },
  {
   "cell_type": "code",
   "execution_count": 32,
   "id": "fbbdf1c0-3bb1-45b7-af1f-3fd807667cfb",
   "metadata": {},
   "outputs": [],
   "source": [
    "# neighbours = NearestNeighbors(n_neighbors=40)\n",
    "# neighbours_fit = neighbours.fit(data_reduced)\n",
    "# dist,index = neighbours_fit.kneighbors(data_reduced)"
   ]
  },
  {
   "cell_type": "code",
   "execution_count": 33,
   "id": "2bb04815-b4ae-4043-aa4d-04b52cd4e18d",
   "metadata": {},
   "outputs": [
    {
     "data": {
      "text/plain": [
       "[<matplotlib.lines.Line2D at 0x1c118e84940>]"
      ]
     },
     "execution_count": 33,
     "metadata": {},
     "output_type": "execute_result"
    },
    {
     "data": {
      "image/png": "[encoded data removed]",
      "text/plain": [
       "<Figure size 432x288 with 1 Axes>"
      ]
     },
     "metadata": {
      "needs_background": "light"
     },
     "output_type": "display_data"
    }
   ],
   "source": [
    "# dist = np.sort(dist,axis=0)\n",
    "# dist = dist[:,1]\n",
    "# plt.plot(dist)"
   ]
  },
  {
   "cell_type": "code",
   "execution_count": 61,
   "id": "86374c39-5440-4492-be25-a70ead7f20bf",
   "metadata": {},
   "outputs": [],
   "source": [
    "# db = DBSCAN(eps=6 , min_samples=40)\n",
    "# db.fit(data_reduced)\n",
    "# y = db.labels_"
   ]
  },
  {
   "cell_type": "code",
   "execution_count": 62,
   "id": "d4e6a63b-f2d1-4767-90f7-6595ae77727c",
   "metadata": {},
   "outputs": [],
   "source": [
    "# n_clusters = len(set(y)) - (1 if -1 in y else 0)\n",
    "# n_noise = list(y).count(-1)"
   ]
  },
  {
   "cell_type": "code",
   "execution_count": 63,
   "id": "44ced210-43e4-44e7-9b69-5759245fb7a3",
   "metadata": {},
   "outputs": [
    {
     "data": {
      "text/plain": [
       "(1, 0)"
      ]
     },
     "execution_count": 63,
     "metadata": {},
     "output_type": "execute_result"
    }
   ],
   "source": [
    "#n_clusters,n_noise"
   ]
  },
  {
   "cell_type": "code",
   "execution_count": null,
   "id": "460d8761-cbcc-45cf-a9bf-67cd0e591690",
   "metadata": {},
   "outputs": [],
   "source": []
  },
  {
   "cell_type": "code",
   "execution_count": null,
   "id": "279a1da1-59d8-41f7-9fdf-ba6f602d06a3",
   "metadata": {},
   "outputs": [],
   "source": []
  },
  {
   "cell_type": "code",
   "execution_count": 64,
   "id": "37f0004d-87ca-45c1-a72c-85375604773f",
   "metadata": {},
   "outputs": [],
   "source": [
    "from sklearn.cluster import KMeans"
   ]
  },
  {
   "cell_type": "code",
   "execution_count": 66,
   "id": "f5e27683-276c-465b-b853-ca585d7b8c7c",
   "metadata": {},
   "outputs": [
    {
     "name": "stdout",
     "output_type": "stream",
     "text": [
      "[0 0 0 ... 1 0 0]\n",
      "[2 0 2 ... 2 1 0]\n",
      "[0 2 0 ... 3 1 0]\n",
      "[3 2 3 ... 1 1 3]\n",
      "[1 0 1 ... 3 2 1]\n",
      "[1 5 0 ... 4 6 1]\n",
      "[2 4 7 ... 6 5 2]\n",
      "[5 6 1 ... 8 3 5]\n",
      "[4 3 5 ... 1 8 4]\n",
      "[ 7  2 10 ...  9  0  7]\n"
     ]
    }
   ],
   "source": [
    "silhouette_avg = []\n",
    "for i in range(2,12):\n",
    "    kmeans = KMeans(n_clusters=i,random_state=0)\n",
    "    kmeans.fit(data_pca_20)\n",
    "    clus_labels = kmeans.labels_\n",
    "    print(clus_labels)\n",
    "    \n",
    "    silhouette_avg.append(metrics.silhouette_score(data_pca_20,clus_labels))\n",
    "    \n",
    "    \n",
    "    "
   ]
  },
  {
   "cell_type": "code",
   "execution_count": 68,
   "id": "2073cb5a-f5cb-4ec0-8528-32b3a3238c5f",
   "metadata": {},
   "outputs": [
    {
     "data": {
      "text/plain": [
       "[<matplotlib.lines.Line2D at 0x1c11a1c8af0>]"
      ]
     },
     "execution_count": 68,
     "metadata": {},
     "output_type": "execute_result"
    },
    {
     "data": {
      "image/png": "[encoded data removed]",
      "text/plain": [
       "<Figure size 432x288 with 1 Axes>"
      ]
     },
     "metadata": {
      "needs_background": "light"
     },
     "output_type": "display_data"
    }
   ],
   "source": [
    "plt.plot(range(2,12),silhouette_avg,\"bx-\")"
   ]
  },
  {
   "cell_type": "code",
   "execution_count": 69,
   "id": "df5c2c22-7eef-4754-bdec-3de2dbdb8fc5",
   "metadata": {},
   "outputs": [],
   "source": [
    "inertia_avg = []\n",
    "for i in range(2,12):\n",
    "    kmeans = KMeans(n_clusters=i,random_state=0)\n",
    "    kmeans.fit(data_pca_20)\n",
    "    inertia_avg.append(kmeans.inertia_)"
   ]
  },
  {
   "cell_type": "code",
   "execution_count": 71,
   "id": "d1b12f41-bf14-4e49-8e6a-e6b3a87c396a",
   "metadata": {},
   "outputs": [
    {
     "data": {
      "text/plain": [
       "[<matplotlib.lines.Line2D at 0x1c11e266380>]"
      ]
     },
     "execution_count": 71,
     "metadata": {},
     "output_type": "execute_result"
    },
    {
     "data": {
      "image/png": "[encoded data removed]",
      "text/plain": [
       "<Figure size 432x288 with 1 Axes>"
      ]
     },
     "metadata": {
      "needs_background": "light"
     },
     "output_type": "display_data"
    }
   ],
   "source": [
    "plt.plot(range(2,12),inertia_avg)"
   ]
  },
  {
   "cell_type": "code",
   "execution_count": 77,
   "id": "57f8ade1-3678-4d4f-8d73-8887fe106be4",
   "metadata": {},
   "outputs": [],
   "source": [
    "kmeans_opt = KMeans(n_clusters=6,random_state=0)\n",
    "kmeans_opt.fit(data_reduced)\n",
    "y = kmeans_opt.predict(data_reduced)"
   ]
  },
  {
   "cell_type": "code",
   "execution_count": 78,
   "id": "ba28d92e-af98-4e16-8994-5c844c73212b",
   "metadata": {},
   "outputs": [],
   "source": [
    "df_result = pd.DataFrame(columns=[\"Predicted\"])\n",
    "df_result['Predicted']=y\n",
    "df_result.reset_index(inplace=True)\n",
    "df_result.rename(columns={\"index\":\"id\"},inplace=True)"
   ]
  },
  {
   "cell_type": "code",
   "execution_count": 79,
   "id": "ae4d376f-09d9-4d5b-a16d-96e44d1d2f69",
   "metadata": {},
   "outputs": [],
   "source": [
    "df_result.to_csv(\"pca_20_kmeans.csv\",index=False)"
   ]
  },
  {
   "cell_type": "code",
   "execution_count": null,
   "id": "4ae284fd-77ca-4986-87f6-04fd3bdd0cae",
   "metadata": {},
   "outputs": [],
   "source": []
  }
 ],
 "metadata": {
  "kernelspec": {
   "display_name": "Python 3 (ipykernel)",
   "language": "python",
   "name": "python3"
  },
  "language_info": {
   "codemirror_mode": {
    "name": "ipython",
    "version": 3
   },
   "file_extension": ".py",
   "mimetype": "text/x-python",
   "name": "python",
   "nbconvert_exporter": "python",
   "pygments_lexer": "ipython3",
   "version": "3.10.5"
  }
 },
 "nbformat": 4,
 "nbformat_minor": 5
}
