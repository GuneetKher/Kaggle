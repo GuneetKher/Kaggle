{
 "cells": [
  {
   "cell_type": "code",
   "execution_count": 1,
   "id": "4ab01735-1d68-4afc-b9f4-2541db670d49",
   "metadata": {},
   "outputs": [],
   "source": [
    "import pandas as pd\n",
    "import numpy as np\n",
    "import matplotlib.pyplot as plt\n",
    "import seaborn as sns"
   ]
  },
  {
   "cell_type": "code",
   "execution_count": 2,
   "id": "304ca08f-4e4e-4f3d-9074-9b39d2618807",
   "metadata": {},
   "outputs": [],
   "source": [
    "df = pd.read_csv(\"data.csv\",index_col=\"id\")"
   ]
  },
  {
   "cell_type": "code",
   "execution_count": 3,
   "id": "c654b3d9-9c06-4385-9757-3dca00dfb279",
   "metadata": {},
   "outputs": [
    {
     "data": {
      "text/html": [
       "<div>\n",
       "<style scoped>\n",
       "    .dataframe tbody tr th:only-of-type {\n",
       "        vertical-align: middle;\n",
       "    }\n",
       "\n",
       "    .dataframe tbody tr th {\n",
       "        vertical-align: top;\n",
       "    }\n",
       "\n",
       "    .dataframe thead th {\n",
       "        text-align: right;\n",
       "    }\n",
       "</style>\n",
       "<table border=\"1\" class=\"dataframe\">\n",
       "  <thead>\n",
       "    <tr style=\"text-align: right;\">\n",
       "      <th></th>\n",
       "      <th>f_00</th>\n",
       "      <th>f_01</th>\n",
       "      <th>f_02</th>\n",
       "      <th>f_03</th>\n",
       "      <th>f_04</th>\n",
       "      <th>f_05</th>\n",
       "      <th>f_06</th>\n",
       "      <th>f_07</th>\n",
       "      <th>f_08</th>\n",
       "      <th>f_09</th>\n",
       "      <th>...</th>\n",
       "      <th>f_19</th>\n",
       "      <th>f_20</th>\n",
       "      <th>f_21</th>\n",
       "      <th>f_22</th>\n",
       "      <th>f_23</th>\n",
       "      <th>f_24</th>\n",
       "      <th>f_25</th>\n",
       "      <th>f_26</th>\n",
       "      <th>f_27</th>\n",
       "      <th>f_28</th>\n",
       "    </tr>\n",
       "    <tr>\n",
       "      <th>id</th>\n",
       "      <th></th>\n",
       "      <th></th>\n",
       "      <th></th>\n",
       "      <th></th>\n",
       "      <th></th>\n",
       "      <th></th>\n",
       "      <th></th>\n",
       "      <th></th>\n",
       "      <th></th>\n",
       "      <th></th>\n",
       "      <th></th>\n",
       "      <th></th>\n",
       "      <th></th>\n",
       "      <th></th>\n",
       "      <th></th>\n",
       "      <th></th>\n",
       "      <th></th>\n",
       "      <th></th>\n",
       "      <th></th>\n",
       "      <th></th>\n",
       "      <th></th>\n",
       "    </tr>\n",
       "  </thead>\n",
       "  <tbody>\n",
       "    <tr>\n",
       "      <th>0</th>\n",
       "      <td>-0.389420</td>\n",
       "      <td>-0.912791</td>\n",
       "      <td>0.648951</td>\n",
       "      <td>0.589045</td>\n",
       "      <td>-0.830817</td>\n",
       "      <td>0.733624</td>\n",
       "      <td>2.258560</td>\n",
       "      <td>2</td>\n",
       "      <td>13</td>\n",
       "      <td>14</td>\n",
       "      <td>...</td>\n",
       "      <td>-0.478412</td>\n",
       "      <td>-0.757002</td>\n",
       "      <td>-0.763635</td>\n",
       "      <td>-1.090369</td>\n",
       "      <td>1.142641</td>\n",
       "      <td>-0.884274</td>\n",
       "      <td>1.137896</td>\n",
       "      <td>1.309073</td>\n",
       "      <td>1.463002</td>\n",
       "      <td>0.813527</td>\n",
       "    </tr>\n",
       "    <tr>\n",
       "      <th>1</th>\n",
       "      <td>-0.689249</td>\n",
       "      <td>-0.453954</td>\n",
       "      <td>0.654175</td>\n",
       "      <td>0.995248</td>\n",
       "      <td>-1.653020</td>\n",
       "      <td>0.863810</td>\n",
       "      <td>-0.090651</td>\n",
       "      <td>2</td>\n",
       "      <td>3</td>\n",
       "      <td>6</td>\n",
       "      <td>...</td>\n",
       "      <td>-0.428791</td>\n",
       "      <td>-0.089908</td>\n",
       "      <td>-1.784204</td>\n",
       "      <td>-0.839474</td>\n",
       "      <td>0.459685</td>\n",
       "      <td>1.759412</td>\n",
       "      <td>-0.275422</td>\n",
       "      <td>-0.852168</td>\n",
       "      <td>0.562457</td>\n",
       "      <td>-2.680541</td>\n",
       "    </tr>\n",
       "    <tr>\n",
       "      <th>2</th>\n",
       "      <td>0.809079</td>\n",
       "      <td>0.324568</td>\n",
       "      <td>-1.170602</td>\n",
       "      <td>-0.624491</td>\n",
       "      <td>0.105448</td>\n",
       "      <td>0.783948</td>\n",
       "      <td>1.988301</td>\n",
       "      <td>5</td>\n",
       "      <td>11</td>\n",
       "      <td>5</td>\n",
       "      <td>...</td>\n",
       "      <td>-0.413534</td>\n",
       "      <td>-1.602377</td>\n",
       "      <td>1.190984</td>\n",
       "      <td>3.267116</td>\n",
       "      <td>-0.088322</td>\n",
       "      <td>-2.168635</td>\n",
       "      <td>-0.974989</td>\n",
       "      <td>1.335763</td>\n",
       "      <td>-1.110655</td>\n",
       "      <td>-3.630723</td>\n",
       "    </tr>\n",
       "    <tr>\n",
       "      <th>3</th>\n",
       "      <td>-0.500923</td>\n",
       "      <td>0.229049</td>\n",
       "      <td>0.264109</td>\n",
       "      <td>0.231520</td>\n",
       "      <td>0.415012</td>\n",
       "      <td>-1.221269</td>\n",
       "      <td>0.138850</td>\n",
       "      <td>6</td>\n",
       "      <td>2</td>\n",
       "      <td>13</td>\n",
       "      <td>...</td>\n",
       "      <td>0.619283</td>\n",
       "      <td>1.287801</td>\n",
       "      <td>0.532837</td>\n",
       "      <td>1.036631</td>\n",
       "      <td>-2.041828</td>\n",
       "      <td>1.440490</td>\n",
       "      <td>-1.900191</td>\n",
       "      <td>-0.630771</td>\n",
       "      <td>-0.050641</td>\n",
       "      <td>0.238333</td>\n",
       "    </tr>\n",
       "    <tr>\n",
       "      <th>4</th>\n",
       "      <td>-0.671268</td>\n",
       "      <td>-1.039533</td>\n",
       "      <td>-0.270155</td>\n",
       "      <td>-1.830264</td>\n",
       "      <td>-0.290108</td>\n",
       "      <td>-1.852809</td>\n",
       "      <td>0.781898</td>\n",
       "      <td>8</td>\n",
       "      <td>7</td>\n",
       "      <td>5</td>\n",
       "      <td>...</td>\n",
       "      <td>-1.628830</td>\n",
       "      <td>-0.434948</td>\n",
       "      <td>0.322505</td>\n",
       "      <td>0.284326</td>\n",
       "      <td>-2.438365</td>\n",
       "      <td>1.473930</td>\n",
       "      <td>-1.044684</td>\n",
       "      <td>1.602686</td>\n",
       "      <td>-0.405263</td>\n",
       "      <td>-1.987263</td>\n",
       "    </tr>\n",
       "  </tbody>\n",
       "</table>\n",
       "<p>5 rows × 29 columns</p>\n",
       "</div>"
      ],
      "text/plain": [
       "        f_00      f_01      f_02      f_03      f_04      f_05      f_06  \\\n",
       "id                                                                         \n",
       "0  -0.389420 -0.912791  0.648951  0.589045 -0.830817  0.733624  2.258560   \n",
       "1  -0.689249 -0.453954  0.654175  0.995248 -1.653020  0.863810 -0.090651   \n",
       "2   0.809079  0.324568 -1.170602 -0.624491  0.105448  0.783948  1.988301   \n",
       "3  -0.500923  0.229049  0.264109  0.231520  0.415012 -1.221269  0.138850   \n",
       "4  -0.671268 -1.039533 -0.270155 -1.830264 -0.290108 -1.852809  0.781898   \n",
       "\n",
       "    f_07  f_08  f_09  ...      f_19      f_20      f_21      f_22      f_23  \\\n",
       "id                    ...                                                     \n",
       "0      2    13    14  ... -0.478412 -0.757002 -0.763635 -1.090369  1.142641   \n",
       "1      2     3     6  ... -0.428791 -0.089908 -1.784204 -0.839474  0.459685   \n",
       "2      5    11     5  ... -0.413534 -1.602377  1.190984  3.267116 -0.088322   \n",
       "3      6     2    13  ...  0.619283  1.287801  0.532837  1.036631 -2.041828   \n",
       "4      8     7     5  ... -1.628830 -0.434948  0.322505  0.284326 -2.438365   \n",
       "\n",
       "        f_24      f_25      f_26      f_27      f_28  \n",
       "id                                                    \n",
       "0  -0.884274  1.137896  1.309073  1.463002  0.813527  \n",
       "1   1.759412 -0.275422 -0.852168  0.562457 -2.680541  \n",
       "2  -2.168635 -0.974989  1.335763 -1.110655 -3.630723  \n",
       "3   1.440490 -1.900191 -0.630771 -0.050641  0.238333  \n",
       "4   1.473930 -1.044684  1.602686 -0.405263 -1.987263  \n",
       "\n",
       "[5 rows x 29 columns]"
      ]
     },
     "execution_count": 3,
     "metadata": {},
     "output_type": "execute_result"
    }
   ],
   "source": [
    "df.head()"
   ]
  },
  {
   "cell_type": "code",
   "execution_count": 39,
   "id": "6f4e7858-433d-422d-a1b5-aff507f0a8a5",
   "metadata": {},
   "outputs": [
    {
     "ename": "ModuleNotFoundError",
     "evalue": "No module named 'sklearn_extra'",
     "output_type": "error",
     "traceback": [
      "\u001b[1;31m---------------------------------------------------------------------------\u001b[0m",
      "\u001b[1;31mModuleNotFoundError\u001b[0m                       Traceback (most recent call last)",
      "Input \u001b[1;32mIn [39]\u001b[0m, in \u001b[0;36m<cell line: 1>\u001b[1;34m()\u001b[0m\n\u001b[1;32m----> 1\u001b[0m \u001b[38;5;28;01mfrom\u001b[39;00m \u001b[38;5;21;01msklearn_extra\u001b[39;00m\u001b[38;5;21;01m.\u001b[39;00m\u001b[38;5;21;01mcluster\u001b[39;00m \u001b[38;5;28;01mimport\u001b[39;00m KMediods\n\u001b[0;32m      2\u001b[0m \u001b[38;5;28;01mfrom\u001b[39;00m \u001b[38;5;21;01msklearn\u001b[39;00m\u001b[38;5;21;01m.\u001b[39;00m\u001b[38;5;21;01mmetrics\u001b[39;00m \u001b[38;5;28;01mimport\u001b[39;00m silhouette_score\n",
      "\u001b[1;31mModuleNotFoundError\u001b[0m: No module named 'sklearn_extra'"
     ]
    }
   ],
   "source": [
    "from sklearn_extra.cluster import KMediods\n",
    "from sklearn.metrics import silhouette_score"
   ]
  },
  {
   "cell_type": "code",
   "execution_count": 6,
   "id": "18ccdf4c-87a6-40bf-9ae9-8b9461f8c5f2",
   "metadata": {},
   "outputs": [
    {
     "data": {
      "text/plain": [
       "<AxesSubplot:>"
      ]
     },
     "execution_count": 6,
     "metadata": {},
     "output_type": "execute_result"
    },
    {
     "data": {
      "image/png": "[encoded data removed]",
      "text/plain": [
       "<Figure size 1440x1440 with 2 Axes>"
      ]
     },
     "metadata": {
      "needs_background": "light"
     },
     "output_type": "display_data"
    }
   ],
   "source": [
    "correl = df.corr()\n",
    "fig, ax = plt.subplots(figsize=(20,20)) \n",
    "sns.heatmap(correl)"
   ]
  },
  {
   "cell_type": "code",
   "execution_count": 11,
   "id": "e0877a63-2229-4be3-97f1-9cde04222e42",
   "metadata": {},
   "outputs": [
    {
     "name": "stdout",
     "output_type": "stream",
     "text": [
      "[1 1 1 ... 0 0 1]\n",
      "[2 0 2 ... 2 0 0]\n",
      "[3 1 3 ... 3 2 2]\n",
      "[0 2 0 ... 1 4 0]\n",
      "[3 4 3 ... 1 0 4]\n",
      "[5 0 5 ... 1 1 0]\n",
      "[1 3 1 ... 0 0 3]\n",
      "[8 7 8 ... 4 4 7]\n",
      "[5 6 5 ... 3 3 6]\n",
      "[9 1 9 ... 8 8 1]\n",
      "[0 7 0 ... 8 8 3]\n",
      "[2 7 6 ... 4 4 7]\n",
      "[7 8 3 ... 0 0 8]\n",
      "[ 0  5 12 ...  4 10  5]\n",
      "[ 8  7  6 ...  2  5 12]\n",
      "[13 14  9 ...  0  2  8]\n"
     ]
    }
   ],
   "source": [
    "silhouette_avg = []\n",
    "for i in range(2,18):\n",
    "    # initalize kmeans\n",
    "    kmeans = KMeans(n_clusters=i,random_state=0)\n",
    "    kmeans.fit(df)\n",
    "    cluster_labels = kmeans.labels_\n",
    "    print(cluster_labels)\n",
    "    \n",
    "    #silhouette score\n",
    "    silhouette_avg.append(silhouette_score(df,cluster_labels))\n",
    "\n",
    "    "
   ]
  },
  {
   "cell_type": "code",
   "execution_count": 12,
   "id": "fbba232b-bcf5-410c-950d-851887d810e0",
   "metadata": {},
   "outputs": [
    {
     "data": {
      "text/plain": [
       "Text(0.5, 1.0, 'Sil')"
      ]
     },
     "execution_count": 12,
     "metadata": {},
     "output_type": "execute_result"
    },
    {
     "data": {
      "image/png": "[encoded data removed]",
      "text/plain": [
       "<Figure size 432x288 with 1 Axes>"
      ]
     },
     "metadata": {
      "needs_background": "light"
     },
     "output_type": "display_data"
    }
   ],
   "source": [
    "plt.plot(range(2,18),silhouette_avg,'bx-')\n",
    "plt.xlabel('Values of K')\n",
    "plt.ylabel('Score')\n",
    "plt.title('Sil')"
   ]
  },
  {
   "cell_type": "code",
   "execution_count": 14,
   "id": "177558f3-89c3-4793-999b-1cd8948b9b5b",
   "metadata": {},
   "outputs": [
    {
     "data": {
      "text/plain": [
       "[0.17642088101307282,\n",
       " 0.12415450348295316,\n",
       " 0.12688051751909898,\n",
       " 0.12124934737711314,\n",
       " 0.1178262221567238,\n",
       " 0.10834897507438393,\n",
       " 0.10493714216225004,\n",
       " 0.09929797674725531,\n",
       " 0.09859318532543877,\n",
       " 0.09704163070502217,\n",
       " 0.09577511236129053,\n",
       " 0.09515453637882389,\n",
       " 0.091812059402437,\n",
       " 0.09068794957656007,\n",
       " 0.087507041807401,\n",
       " 0.08699182814560631]"
      ]
     },
     "execution_count": 14,
     "metadata": {},
     "output_type": "execute_result"
    }
   ],
   "source": [
    "silhouette_avg"
   ]
  },
  {
   "cell_type": "code",
   "execution_count": 33,
   "id": "8905ac6c-f6ba-4fa7-8629-64caf14bfbc2",
   "metadata": {},
   "outputs": [],
   "source": [
    "kmeans_opt = KMeans(n_clusters=2,random_state=0)\n",
    "kmeans_opt.fit(df)\n",
    "y = kmeans_opt.predict(df)"
   ]
  },
  {
   "cell_type": "code",
   "execution_count": 34,
   "id": "331cb27e-201d-4eea-8b77-7ab7aa754b8a",
   "metadata": {},
   "outputs": [
    {
     "data": {
      "text/plain": [
       "array([1, 1, 1, ..., 0, 0, 1])"
      ]
     },
     "execution_count": 34,
     "metadata": {},
     "output_type": "execute_result"
    }
   ],
   "source": [
    "y"
   ]
  },
  {
   "cell_type": "code",
   "execution_count": 35,
   "id": "0f143f20-bb04-4cf6-9a8a-2e861eda41a0",
   "metadata": {},
   "outputs": [],
   "source": [
    "df_result = pd.DataFrame(columns=[\"Predicted\"])"
   ]
  },
  {
   "cell_type": "code",
   "execution_count": 36,
   "id": "fd8211ec-66f9-4c21-a907-c6e4d39e71f2",
   "metadata": {},
   "outputs": [],
   "source": [
    "df_result['Predicted']=y\n",
    "df_result.reset_index(inplace=True)\n",
    "df_result.rename(columns={\"index\":\"id\"},inplace=True)"
   ]
  },
  {
   "cell_type": "code",
   "execution_count": 37,
   "id": "fff2d843-49a3-49e8-9b05-7cdc5c1d29be",
   "metadata": {},
   "outputs": [
    {
     "data": {
      "text/html": [
       "<div>\n",
       "<style scoped>\n",
       "    .dataframe tbody tr th:only-of-type {\n",
       "        vertical-align: middle;\n",
       "    }\n",
       "\n",
       "    .dataframe tbody tr th {\n",
       "        vertical-align: top;\n",
       "    }\n",
       "\n",
       "    .dataframe thead th {\n",
       "        text-align: right;\n",
       "    }\n",
       "</style>\n",
       "<table border=\"1\" class=\"dataframe\">\n",
       "  <thead>\n",
       "    <tr style=\"text-align: right;\">\n",
       "      <th></th>\n",
       "      <th>id</th>\n",
       "      <th>Predicted</th>\n",
       "    </tr>\n",
       "  </thead>\n",
       "  <tbody>\n",
       "    <tr>\n",
       "      <th>0</th>\n",
       "      <td>0</td>\n",
       "      <td>1</td>\n",
       "    </tr>\n",
       "    <tr>\n",
       "      <th>1</th>\n",
       "      <td>1</td>\n",
       "      <td>1</td>\n",
       "    </tr>\n",
       "    <tr>\n",
       "      <th>2</th>\n",
       "      <td>2</td>\n",
       "      <td>1</td>\n",
       "    </tr>\n",
       "    <tr>\n",
       "      <th>3</th>\n",
       "      <td>3</td>\n",
       "      <td>0</td>\n",
       "    </tr>\n",
       "    <tr>\n",
       "      <th>4</th>\n",
       "      <td>4</td>\n",
       "      <td>1</td>\n",
       "    </tr>\n",
       "    <tr>\n",
       "      <th>...</th>\n",
       "      <td>...</td>\n",
       "      <td>...</td>\n",
       "    </tr>\n",
       "    <tr>\n",
       "      <th>97995</th>\n",
       "      <td>97995</td>\n",
       "      <td>1</td>\n",
       "    </tr>\n",
       "    <tr>\n",
       "      <th>97996</th>\n",
       "      <td>97996</td>\n",
       "      <td>1</td>\n",
       "    </tr>\n",
       "    <tr>\n",
       "      <th>97997</th>\n",
       "      <td>97997</td>\n",
       "      <td>0</td>\n",
       "    </tr>\n",
       "    <tr>\n",
       "      <th>97998</th>\n",
       "      <td>97998</td>\n",
       "      <td>0</td>\n",
       "    </tr>\n",
       "    <tr>\n",
       "      <th>97999</th>\n",
       "      <td>97999</td>\n",
       "      <td>1</td>\n",
       "    </tr>\n",
       "  </tbody>\n",
       "</table>\n",
       "<p>98000 rows × 2 columns</p>\n",
       "</div>"
      ],
      "text/plain": [
       "          id  Predicted\n",
       "0          0          1\n",
       "1          1          1\n",
       "2          2          1\n",
       "3          3          0\n",
       "4          4          1\n",
       "...      ...        ...\n",
       "97995  97995          1\n",
       "97996  97996          1\n",
       "97997  97997          0\n",
       "97998  97998          0\n",
       "97999  97999          1\n",
       "\n",
       "[98000 rows x 2 columns]"
      ]
     },
     "execution_count": 37,
     "metadata": {},
     "output_type": "execute_result"
    }
   ],
   "source": [
    "df_result"
   ]
  },
  {
   "cell_type": "code",
   "execution_count": 38,
   "id": "ebf44d38-6b21-451d-a5e0-f31fd87c6d21",
   "metadata": {},
   "outputs": [],
   "source": [
    "df_result.to_csv(\"out3.csv\",index=False)\n"
   ]
  },
  {
   "cell_type": "code",
   "execution_count": null,
   "id": "8e3bd550-3330-45ee-8eff-adf29817580c",
   "metadata": {},
   "outputs": [],
   "source": []
  }
 ],
 "metadata": {
  "kernelspec": {
   "display_name": "Python 3 (ipykernel)",
   "language": "python",
   "name": "python3"
  },
  "language_info": {
   "codemirror_mode": {
    "name": "ipython",
    "version": 3
   },
   "file_extension": ".py",
   "mimetype": "text/x-python",
   "name": "python",
   "nbconvert_exporter": "python",
   "pygments_lexer": "ipython3",
   "version": "3.10.5"
  }
 },
 "nbformat": 4,
 "nbformat_minor": 5
}
